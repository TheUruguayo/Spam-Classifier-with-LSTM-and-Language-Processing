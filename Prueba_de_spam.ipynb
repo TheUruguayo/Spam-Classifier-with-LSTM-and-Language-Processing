{
  "nbformat": 4,
  "nbformat_minor": 0,
  "metadata": {
    "colab": {
      "name": "Prueba de spam.ipynb",
      "provenance": [],
      "mount_file_id": "1N0VfUmCuFg-MtAkFBW1wW6BxIbBc3tie",
      "authorship_tag": "ABX9TyM0q0DFvp856H8p51CpbXyA",
      "include_colab_link": true
    },
    "kernelspec": {
      "name": "python3",
      "display_name": "Python 3"
    },
    "accelerator": "GPU"
  },
  "cells": [
    {
      "cell_type": "markdown",
      "metadata": {
        "id": "view-in-github",
        "colab_type": "text"
      },
      "source": [
        "<a href=\"https://colab.research.google.com/github/TheUruguayo/Spam-Classifier-with-LSTM-and-Language-Processing/blob/main/Prueba_de_spam.ipynb\" target=\"_parent\"><img src=\"https://colab.research.google.com/assets/colab-badge.svg\" alt=\"Open In Colab\"/></a>"
      ]
    },
    {
      "cell_type": "code",
      "metadata": {
        "id": "_TPZL5fxz_1F"
      },
      "source": [
        "import csv\r\n",
        "import tensorflow as tf\r\n",
        "import numpy as np\r\n",
        "from tensorflow.keras.preprocessing.text import Tokenizer\r\n",
        "from tensorflow.keras.preprocessing.sequence import pad_sequences\r\n",
        "import pandas as pd\r\n",
        "from tensorflow.keras.layers import Embedding, LSTM, Dense, Dropout, Bidirectional"
      ],
      "execution_count": 86,
      "outputs": []
    },
    {
      "cell_type": "code",
      "metadata": {
        "colab": {
          "base_uri": "https://localhost:8080/"
        },
        "id": "ipF5jlhAGT8-",
        "outputId": "f507b19e-a30f-431b-edea-8645cc953f22"
      },
      "source": [
        "train_data = pd.read_csv('/content/drive/MyDrive/Colab Notebooks/spam.csv',encoding = \"ISO-8859-1\")\r\n",
        "train_data.shape"
      ],
      "execution_count": 94,
      "outputs": [
        {
          "output_type": "execute_result",
          "data": {
            "text/plain": [
              "(5572, 5)"
            ]
          },
          "metadata": {
            "tags": []
          },
          "execution_count": 94
        }
      ]
    },
    {
      "cell_type": "code",
      "metadata": {
        "colab": {
          "base_uri": "https://localhost:8080/"
        },
        "id": "w_lDK9lIHZuY",
        "outputId": "d83550ae-1b24-4c54-f845-a8a366fb0d95"
      },
      "source": [
        "print(train_data.head())\r\n",
        "train_data.describe()\r\n",
        "#print(\"Colums: \", train_data.columns.values)\r\n",
        "#nos va a dar multiplicadas las dimenciones y sumando las labels\r\n",
        "print(\"Shape train: \", train_data.shape)\r\n",
        "#print(\"Shape test: \", test_data.shape)"
      ],
      "execution_count": 95,
      "outputs": [
        {
          "output_type": "stream",
          "text": [
            "     v1  ... Unnamed: 4\n",
            "0   ham  ...        NaN\n",
            "1   ham  ...        NaN\n",
            "2  spam  ...        NaN\n",
            "3   ham  ...        NaN\n",
            "4   ham  ...        NaN\n",
            "\n",
            "[5 rows x 5 columns]\n",
            "Shape train:  (5572, 5)\n"
          ],
          "name": "stdout"
        }
      ]
    },
    {
      "cell_type": "code",
      "metadata": {
        "colab": {
          "base_uri": "https://localhost:8080/"
        },
        "id": "2IjdSfM0IpzO",
        "outputId": "0d8967d4-890d-473e-af48-56eb4cb7b912"
      },
      "source": [
        "print(train_data.describe())"
      ],
      "execution_count": 96,
      "outputs": [
        {
          "output_type": "stream",
          "text": [
            "          v1                      v2  ... Unnamed: 3 Unnamed: 4\n",
            "count   5572                    5572  ...         12          6\n",
            "unique     2                    5169  ...         10          5\n",
            "top      ham  Sorry, I'll call later  ...         GE    GNT:-)\"\n",
            "freq    4825                      30  ...          2          2\n",
            "\n",
            "[4 rows x 5 columns]\n"
          ],
          "name": "stdout"
        }
      ]
    },
    {
      "cell_type": "code",
      "metadata": {
        "colab": {
          "base_uri": "https://localhost:8080/"
        },
        "id": "0lDqW3xsMhSb",
        "outputId": "6f6cc0b2-f6cb-4365-e7b2-67723fb99634"
      },
      "source": [
        "labels = train_data['v1']\r\n",
        "sentences = train_data['v2']\r\n",
        "print(\"las sentences tienen que ser 5572 \",sentences.shape, \" Y por ejemplo :\",sentences[5])\r\n",
        "print(\"las labels tienen que ser 5572 \",labels.shape, \" Y por ejemplo :\",labels[5])"
      ],
      "execution_count": 100,
      "outputs": [
        {
          "output_type": "stream",
          "text": [
            "las sentences tienen que ser 5572  (5572,)  Y por ejemplo : FreeMsg Hey there darling it's been 3 week's now and no word back! I'd like some fun you up for it still? Tb ok! XxX std chgs to send, å£1.50 to rcv\n",
            "las labels tienen que ser 5572  (5572,)  Y por ejemplo : spam\n"
          ],
          "name": "stdout"
        }
      ]
    },
    {
      "cell_type": "code",
      "metadata": {
        "colab": {
          "base_uri": "https://localhost:8080/"
        },
        "id": "gfw1A0qKIWTF",
        "outputId": "00303088-ef61-432a-dc40-7122ae494d21"
      },
      "source": [
        "X = train_data[['v1', 'v2']].values\r\n",
        "print(X[0:1])\r\n",
        "#df.drop(df.columns[[0, 4, 2]], axis = 1, inplace = True)\r\n"
      ],
      "execution_count": 102,
      "outputs": [
        {
          "output_type": "stream",
          "text": [
            "[['ham'\n",
            "  'Go until jurong point, crazy.. Available only in bugis n great world la e buffet... Cine there got amore wat...']]\n"
          ],
          "name": "stdout"
        }
      ]
    },
    {
      "cell_type": "code",
      "metadata": {
        "colab": {
          "base_uri": "https://localhost:8080/"
        },
        "id": "6dJhScveKmjZ",
        "outputId": "5a3a6233-030f-43c4-f27b-1bf78f06787f"
      },
      "source": [
        "training_size=int (len(X[:])*0.8) #tiene que haber una mejor manera\r\n",
        "print(training_size)\r\n"
      ],
      "execution_count": 101,
      "outputs": [
        {
          "output_type": "stream",
          "text": [
            "4457\n"
          ],
          "name": "stdout"
        }
      ]
    },
    {
      "cell_type": "code",
      "metadata": {
        "colab": {
          "base_uri": "https://localhost:8080/"
        },
        "id": "FYgvWUs-Kjtv",
        "outputId": "4ca2020a-358f-47f1-f874-397017816be7"
      },
      "source": [
        "training_sentences = sentences[0:training_size]\r\n",
        "testing_sentences = sentences[training_size:]\r\n",
        "training_labels = labels[0:training_size]==\"spam\"\r\n",
        "testing_labels_texts=labels[training_size:]\r\n",
        "testing_labels = labels[training_size:]==\"spam\"\r\n",
        "\r\n",
        "print(training_sentences.shape)\r\n",
        "print(testing_sentences.shape)\r\n",
        "print(training_labels.shape)\r\n",
        "print(testing_labels.shape)\r\n",
        "print(testing_labels)"
      ],
      "execution_count": 103,
      "outputs": [
        {
          "output_type": "stream",
          "text": [
            "(4457,)\n",
            "(1115,)\n",
            "(4457,)\n",
            "(1115,)\n",
            "4457    False\n",
            "4458     True\n",
            "4459    False\n",
            "4460    False\n",
            "4461    False\n",
            "        ...  \n",
            "5567     True\n",
            "5568    False\n",
            "5569    False\n",
            "5570    False\n",
            "5571    False\n",
            "Name: v1, Length: 1115, dtype: bool\n"
          ],
          "name": "stdout"
        }
      ]
    },
    {
      "cell_type": "code",
      "metadata": {
        "colab": {
          "base_uri": "https://localhost:8080/"
        },
        "id": "M0QfMnKiPchv",
        "outputId": "ccb83408-6010-447d-81a3-3d1275dc7082"
      },
      "source": [
        "max=0\r\n",
        "for i in training_sentences:\r\n",
        "  if max<len(i): max=len(i)\r\n",
        "for i in testing_sentences:\r\n",
        "  if max<len(i): max=len(i)\r\n",
        "print(max) "
      ],
      "execution_count": 69,
      "outputs": [
        {
          "output_type": "stream",
          "text": [
            "910\n"
          ],
          "name": "stdout"
        }
      ]
    },
    {
      "cell_type": "code",
      "metadata": {
        "id": "7V5hPzfwNwy-"
      },
      "source": [
        "vocab_size = 1000\r\n",
        "embedding_dim = 16\r\n",
        "max_length = 100\r\n",
        "trunc_type='post'\r\n",
        "padding_type='post'\r\n",
        "oov_tok = \"<OOV>\"\r\n",
        "training_size = training_size\r\n",
        "\r\n",
        "tokenizer = Tokenizer(num_words=vocab_size, oov_token=oov_tok)\r\n",
        "\r\n",
        "tokenizer.fit_on_texts(training_sentences)\r\n",
        "\r\n",
        "word_index = tokenizer.word_index\r\n",
        "\r\n",
        "training_sequences = tokenizer.texts_to_sequences(training_sentences)\r\n",
        "training_padded = pad_sequences(training_sequences, maxlen=max_length, padding=padding_type, truncating=trunc_type)\r\n",
        "\r\n",
        "testing_sequences = tokenizer.texts_to_sequences(testing_sentences)\r\n",
        "testing_padded = pad_sequences(testing_sequences, maxlen=max_length, padding=padding_type, truncating=trunc_type)"
      ],
      "execution_count": 70,
      "outputs": []
    },
    {
      "cell_type": "code",
      "metadata": {
        "id": "IvWznxNqSeue"
      },
      "source": [
        "#print(\"tokenizer: \",tokenizer.word_index)"
      ],
      "execution_count": 112,
      "outputs": []
    },
    {
      "cell_type": "code",
      "metadata": {
        "colab": {
          "base_uri": "https://localhost:8080/"
        },
        "id": "7bS55MH0SN_G",
        "outputId": "9d8773ee-25f2-4276-f26e-0a2e7d22ccf5"
      },
      "source": [
        "input_sequences = []\r\n",
        "count=1\r\n",
        "for line in training_sentences:\r\n",
        "  token_list = tokenizer.texts_to_sequences([line])[0]\r\n",
        "  if count<3: #asi no muestro todos\r\n",
        "    print(\"token list  :\",token_list)  \r\n",
        "    print(\"para la frase:\",count,\" tenemos entonces\")\r\n",
        "  \r\n",
        "  for i in range(1, len(token_list)):\r\n",
        "    \r\n",
        "    n_gram_sequence = token_list[:i+1]\r\n",
        "    if count<3: #asi no muestro todos\r\n",
        "      print(n_gram_sequence)\r\n",
        "    input_sequences.append(n_gram_sequence)\r\n",
        "  count=count+1\r\n",
        "# pad sequences "
      ],
      "execution_count": 72,
      "outputs": [
        {
          "output_type": "stream",
          "text": [
            "token list  : [53, 423, 1, 813, 814, 572, 68, 10, 1, 86, 130, 333, 1, 143, 1, 1, 66, 60, 1, 141]\n",
            "para la frase: 1  tenemos entonces\n",
            "[53, 423]\n",
            "[53, 423, 1]\n",
            "[53, 423, 1, 813]\n",
            "[53, 423, 1, 813, 814]\n",
            "[53, 423, 1, 813, 814, 572]\n",
            "[53, 423, 1, 813, 814, 572, 68]\n",
            "[53, 423, 1, 813, 814, 572, 68, 10]\n",
            "[53, 423, 1, 813, 814, 572, 68, 10, 1]\n",
            "[53, 423, 1, 813, 814, 572, 68, 10, 1, 86]\n",
            "[53, 423, 1, 813, 814, 572, 68, 10, 1, 86, 130]\n",
            "[53, 423, 1, 813, 814, 572, 68, 10, 1, 86, 130, 333]\n",
            "[53, 423, 1, 813, 814, 572, 68, 10, 1, 86, 130, 333, 1]\n",
            "[53, 423, 1, 813, 814, 572, 68, 10, 1, 86, 130, 333, 1, 143]\n",
            "[53, 423, 1, 813, 814, 572, 68, 10, 1, 86, 130, 333, 1, 143, 1]\n",
            "[53, 423, 1, 813, 814, 572, 68, 10, 1, 86, 130, 333, 1, 143, 1, 1]\n",
            "[53, 423, 1, 813, 814, 572, 68, 10, 1, 86, 130, 333, 1, 143, 1, 1, 66]\n",
            "[53, 423, 1, 813, 814, 572, 68, 10, 1, 86, 130, 333, 1, 143, 1, 1, 66, 60]\n",
            "[53, 423, 1, 813, 814, 572, 68, 10, 1, 86, 130, 333, 1, 143, 1, 1, 66, 60, 1]\n",
            "[53, 423, 1, 813, 814, 572, 68, 10, 1, 86, 130, 333, 1, 143, 1, 1, 66, 60, 1, 141]\n",
            "token list  : [47, 308, 1, 523, 7, 1]\n",
            "para la frase: 2  tenemos entonces\n",
            "[47, 308]\n",
            "[47, 308, 1]\n",
            "[47, 308, 1, 523]\n",
            "[47, 308, 1, 523, 7]\n",
            "[47, 308, 1, 523, 7, 1]\n"
          ],
          "name": "stdout"
        }
      ]
    },
    {
      "cell_type": "code",
      "metadata": {
        "id": "lrO_g_JwQoa3"
      },
      "source": [
        "import numpy as np\r\n",
        "training_padded = np.array(training_padded)\r\n",
        "training_labels = np.array(training_labels)\r\n",
        "testing_padded = np.array(testing_padded)\r\n",
        "testing_labels = np.array(testing_labels)"
      ],
      "execution_count": 73,
      "outputs": []
    },
    {
      "cell_type": "code",
      "metadata": {
        "id": "N8og6fVV0CL-",
        "colab": {
          "base_uri": "https://localhost:8080/"
        },
        "outputId": "5f62712c-acd8-41b2-cbef-b46f2be5ebe1"
      },
      "source": [
        "model = tf.keras.Sequential([\r\n",
        "    tf.keras.layers.Embedding(vocab_size, embedding_dim, input_length=max_length),\r\n",
        "    tf.keras.layers.Bidirectional(LSTM(100, return_sequences = True)),\r\n",
        "    tf.keras.layers.GlobalAveragePooling1D(),\r\n",
        "    tf.keras.layers.Dense(24, activation='relu'),\r\n",
        "    tf.keras.layers.Dense(1, activation='sigmoid')\r\n",
        "])\r\n",
        "model.compile(loss='binary_crossentropy',optimizer='adam',metrics=['accuracy'])\r\n",
        "model.summary()"
      ],
      "execution_count": 87,
      "outputs": [
        {
          "output_type": "stream",
          "text": [
            "Model: \"sequential_7\"\n",
            "_________________________________________________________________\n",
            "Layer (type)                 Output Shape              Param #   \n",
            "=================================================================\n",
            "embedding_8 (Embedding)      (None, 100, 16)           16000     \n",
            "_________________________________________________________________\n",
            "bidirectional (Bidirectional (None, 100, 200)          93600     \n",
            "_________________________________________________________________\n",
            "global_average_pooling1d_7 ( (None, 200)               0         \n",
            "_________________________________________________________________\n",
            "dense_14 (Dense)             (None, 24)                4824      \n",
            "_________________________________________________________________\n",
            "dense_15 (Dense)             (None, 1)                 25        \n",
            "=================================================================\n",
            "Total params: 114,449\n",
            "Trainable params: 114,449\n",
            "Non-trainable params: 0\n",
            "_________________________________________________________________\n"
          ],
          "name": "stdout"
        }
      ]
    },
    {
      "cell_type": "code",
      "metadata": {
        "colab": {
          "base_uri": "https://localhost:8080/"
        },
        "id": "dUsXsJteQ_oE",
        "outputId": "3bed7d58-2ac1-4908-c8ef-cf73839f2be2"
      },
      "source": [
        "num_epochs = 30\r\n",
        "history = model.fit(training_padded, training_labels, epochs=num_epochs, validation_data=(testing_padded, testing_labels), verbose=2)"
      ],
      "execution_count": 88,
      "outputs": [
        {
          "output_type": "stream",
          "text": [
            "Epoch 1/30\n",
            "140/140 - 33s - loss: 0.2783 - accuracy: 0.9094 - val_loss: 0.1530 - val_accuracy: 0.9543\n",
            "Epoch 2/30\n",
            "140/140 - 2s - loss: 0.2056 - accuracy: 0.9273 - val_loss: 0.1229 - val_accuracy: 0.9695\n",
            "Epoch 3/30\n",
            "140/140 - 2s - loss: 0.0895 - accuracy: 0.9798 - val_loss: 0.1401 - val_accuracy: 0.9596\n",
            "Epoch 4/30\n",
            "140/140 - 2s - loss: 0.0693 - accuracy: 0.9812 - val_loss: 0.0762 - val_accuracy: 0.9794\n",
            "Epoch 5/30\n",
            "140/140 - 2s - loss: 0.0577 - accuracy: 0.9863 - val_loss: 0.0750 - val_accuracy: 0.9830\n",
            "Epoch 6/30\n",
            "140/140 - 2s - loss: 0.0427 - accuracy: 0.9912 - val_loss: 0.0728 - val_accuracy: 0.9821\n",
            "Epoch 7/30\n",
            "140/140 - 2s - loss: 0.0886 - accuracy: 0.9720 - val_loss: 0.0815 - val_accuracy: 0.9785\n",
            "Epoch 8/30\n",
            "140/140 - 2s - loss: 0.0541 - accuracy: 0.9852 - val_loss: 0.0805 - val_accuracy: 0.9803\n",
            "Epoch 9/30\n",
            "140/140 - 2s - loss: 0.0426 - accuracy: 0.9892 - val_loss: 0.0704 - val_accuracy: 0.9830\n",
            "Epoch 10/30\n",
            "140/140 - 2s - loss: 0.0446 - accuracy: 0.9904 - val_loss: 0.0877 - val_accuracy: 0.9776\n",
            "Epoch 11/30\n",
            "140/140 - 2s - loss: 0.0320 - accuracy: 0.9921 - val_loss: 0.0684 - val_accuracy: 0.9812\n",
            "Epoch 12/30\n",
            "140/140 - 2s - loss: 0.0235 - accuracy: 0.9951 - val_loss: 0.0760 - val_accuracy: 0.9803\n",
            "Epoch 13/30\n",
            "140/140 - 2s - loss: 0.0177 - accuracy: 0.9966 - val_loss: 0.0750 - val_accuracy: 0.9830\n",
            "Epoch 14/30\n",
            "140/140 - 2s - loss: 0.0144 - accuracy: 0.9973 - val_loss: 0.0742 - val_accuracy: 0.9821\n",
            "Epoch 15/30\n",
            "140/140 - 2s - loss: 0.0143 - accuracy: 0.9975 - val_loss: 0.0715 - val_accuracy: 0.9821\n",
            "Epoch 16/30\n",
            "140/140 - 2s - loss: 0.0111 - accuracy: 0.9980 - val_loss: 0.0772 - val_accuracy: 0.9830\n",
            "Epoch 17/30\n",
            "140/140 - 2s - loss: 0.0092 - accuracy: 0.9984 - val_loss: 0.0834 - val_accuracy: 0.9821\n",
            "Epoch 18/30\n",
            "140/140 - 2s - loss: 0.0188 - accuracy: 0.9942 - val_loss: 0.0858 - val_accuracy: 0.9740\n",
            "Epoch 19/30\n",
            "140/140 - 2s - loss: 0.0112 - accuracy: 0.9969 - val_loss: 0.0951 - val_accuracy: 0.9713\n",
            "Epoch 20/30\n",
            "140/140 - 2s - loss: 0.0079 - accuracy: 0.9987 - val_loss: 0.0929 - val_accuracy: 0.9758\n",
            "Epoch 21/30\n",
            "140/140 - 2s - loss: 0.0069 - accuracy: 0.9989 - val_loss: 0.0907 - val_accuracy: 0.9776\n",
            "Epoch 22/30\n",
            "140/140 - 2s - loss: 0.0086 - accuracy: 0.9987 - val_loss: 0.0896 - val_accuracy: 0.9785\n",
            "Epoch 23/30\n",
            "140/140 - 2s - loss: 0.0072 - accuracy: 0.9989 - val_loss: 0.0933 - val_accuracy: 0.9803\n",
            "Epoch 24/30\n",
            "140/140 - 2s - loss: 0.0073 - accuracy: 0.9987 - val_loss: 0.0973 - val_accuracy: 0.9785\n",
            "Epoch 25/30\n",
            "140/140 - 2s - loss: 0.0056 - accuracy: 0.9993 - val_loss: 0.1004 - val_accuracy: 0.9794\n",
            "Epoch 26/30\n",
            "140/140 - 2s - loss: 0.0211 - accuracy: 0.9960 - val_loss: 0.0887 - val_accuracy: 0.9785\n",
            "Epoch 27/30\n",
            "140/140 - 2s - loss: 0.0264 - accuracy: 0.9917 - val_loss: 0.0960 - val_accuracy: 0.9812\n",
            "Epoch 28/30\n",
            "140/140 - 2s - loss: 0.0379 - accuracy: 0.9883 - val_loss: 0.0775 - val_accuracy: 0.9776\n",
            "Epoch 29/30\n",
            "140/140 - 2s - loss: 0.0227 - accuracy: 0.9935 - val_loss: 0.0866 - val_accuracy: 0.9758\n",
            "Epoch 30/30\n",
            "140/140 - 2s - loss: 0.0240 - accuracy: 0.9926 - val_loss: 0.0790 - val_accuracy: 0.9794\n"
          ],
          "name": "stdout"
        }
      ]
    },
    {
      "cell_type": "code",
      "metadata": {
        "colab": {
          "base_uri": "https://localhost:8080/",
          "height": 541
        },
        "id": "811L1H-yXyd1",
        "outputId": "5e989751-022a-4fa5-c0df-a5d93d583b12"
      },
      "source": [
        "import matplotlib.pyplot as plt\r\n",
        "\r\n",
        "\r\n",
        "def plot_graphs(history, string):\r\n",
        "  plt.plot(history.history[string])\r\n",
        "  plt.plot(history.history['val_'+string])\r\n",
        "  plt.xlabel(\"Epochs\")\r\n",
        "  plt.ylabel(string)\r\n",
        "  plt.legend([string, 'val_'+string])\r\n",
        "  plt.show()\r\n",
        "  \r\n",
        "plot_graphs(history, \"accuracy\")\r\n",
        "plot_graphs(history, \"loss\")"
      ],
      "execution_count": 89,
      "outputs": [
        {
          "output_type": "display_data",
          "data": {
            "image/png": "[encoded data removed]",
            "text/plain": [
              "<Figure size 432x288 with 1 Axes>"
            ]
          },
          "metadata": {
            "tags": [],
            "needs_background": "light"
          }
        },
        {
          "output_type": "display_data",
          "data": {
            "image/png": "[encoded data removed]",
            "text/plain": [
              "<Figure size 432x288 with 1 Axes>"
            ]
          },
          "metadata": {
            "tags": [],
            "needs_background": "light"
          }
        }
      ]
    },
    {
      "cell_type": "code",
      "metadata": {
        "colab": {
          "base_uri": "https://localhost:8080/"
        },
        "id": "oYIMi6JnX4PU",
        "outputId": "f4faacdf-cd39-4c71-e4cf-5bdda39c079f"
      },
      "source": [
        "salida=model.predict(testing_padded)\r\n",
        "print(\"predicted: \",salida[:10].T>0.6)\r\n",
        "\r\n",
        "print(\"testing_labels: \",testing_labels[:10].T)\r\n",
        "print(\"testing_labels_texts: \",testing_labels_texts[:10].T)"
      ],
      "execution_count": 106,
      "outputs": [
        {
          "output_type": "stream",
          "text": [
            "predicted:  [[False  True False False False False False False False False]]\n",
            "testing_labels:  4457    False\n",
            "4458     True\n",
            "4459    False\n",
            "4460    False\n",
            "4461    False\n",
            "4462    False\n",
            "4463    False\n",
            "4464    False\n",
            "4465    False\n",
            "4466    False\n",
            "Name: v1, dtype: bool\n",
            "testing_labels_texts:  4457     ham\n",
            "4458    spam\n",
            "4459     ham\n",
            "4460     ham\n",
            "4461     ham\n",
            "4462     ham\n",
            "4463     ham\n",
            "4464     ham\n",
            "4465     ham\n",
            "4466     ham\n",
            "Name: v1, dtype: object\n"
          ],
          "name": "stdout"
        }
      ]
    },
    {
      "cell_type": "markdown",
      "metadata": {
        "id": "rGZOOuWH0CaA"
      },
      "source": [
        ""
      ]
    },
    {
      "cell_type": "code",
      "metadata": {
        "colab": {
          "base_uri": "https://localhost:8080/"
        },
        "id": "BtgMjVsJaA58",
        "outputId": "00898df8-223f-4e8d-cc76-6b84a435b4b3"
      },
      "source": [
        "sentence = [\"you just won!! oportunity to get your price\", \"WINNER!! claim your sex prize\"]\r\n",
        "sequences = tokenizer.texts_to_sequences(sentence)\r\n",
        "padded = pad_sequences(sequences, maxlen=max_length, padding=padding_type, truncating=trunc_type)\r\n",
        "print(model.predict(padded)>0.6)"
      ],
      "execution_count": 110,
      "outputs": [
        {
          "output_type": "stream",
          "text": [
            "[[ True]\n",
            " [ True]]\n"
          ],
          "name": "stdout"
        }
      ]
    },
    {
      "cell_type": "code",
      "metadata": {
        "id": "EYwjo0ESad2v"
      },
      "source": [
        "model.save('/content/drive/MyDrive/Colab Notebooks/spam.h5')"
      ],
      "execution_count": 93,
      "outputs": []
    }
  ]
}